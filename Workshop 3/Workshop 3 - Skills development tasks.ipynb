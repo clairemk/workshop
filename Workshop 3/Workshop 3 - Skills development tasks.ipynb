{
 "cells": [
  {
   "cell_type": "markdown",
   "metadata": {},
   "source": [
    "# Workshop 3 - skills development tasks"
   ]
  },
  {
   "cell_type": "markdown",
   "metadata": {},
   "source": [
    "### Overview"
   ]
  },
  {
   "cell_type": "markdown",
   "metadata": {
    "collapsed": true
   },
   "source": [
    "Coding skills are an incredibly useful capacity for doing data analytics. In our first workshop, we covered the basics of the Python programming language:\n",
    " - variables\n",
    " - values\n",
    " - data types\n",
    " - expressions\n",
    " - statements\n",
    " - if-else\n",
    " - for loops\n",
    "\n",
    "The questions listed below are designed to stretch your coding skills *beyond* what is required for the vast majority of projects in the Corndel Data Analytics Diploma.\n",
    "\n",
    "By the end of this unit, we want every learner to be able to be;\n",
    " - comfortable manipulating different variables and data types\n",
    " - starting to develop the ability to *think algorithmically*\n",
    " - able to interpret basic if-else statements and for loops within existing code\n",
    "\n",
    "To complete the skills development task for workshop 3, you will need to answer 3 of the questions listed below. We have grouped them in order of difficulty. It is completely your choice which questions you answer."
   ]
  },
  {
   "cell_type": "markdown",
   "metadata": {},
   "source": [
    "### Output"
   ]
  },
  {
   "cell_type": "markdown",
   "metadata": {
    "collapsed": true
   },
   "source": [
    "You will need to submit your code as a Jupyter Notebook file (.ipynb). This can be downloaded from the Jupyter Notebook user interface by going to File >> Download as >> Notebook (.ipynb).\n",
    "\n",
    "Your code must be submitted, two weeks from the date of issue."
   ]
  },
  {
   "cell_type": "markdown",
   "metadata": {},
   "source": [
    "# Questions"
   ]
  },
  {
   "cell_type": "markdown",
   "metadata": {
    "collapsed": true
   },
   "source": [
    "### Beginner level"
   ]
  },
  {
   "cell_type": "code",
   "execution_count": 1,
   "metadata": {
    "collapsed": true
   },
   "outputs": [],
   "source": [
    "## QUESTION 1 ##\n",
    "# The area of a trapezium is calculated by taking the average of the lengths of the horizontal sides (a & b),\n",
    "#  and multiplying by the height.\n",
    "# Complete the code below to produce some re-usable code that will caluclate the area of a trapezium,\n",
    "#  given values for a, b, and h."
   ]
  },
  {
   "cell_type": "markdown",
   "metadata": {
    "collapsed": true
   },
   "source": [
    "![title](areaofatrapezium.png)"
   ]
  },
  {
   "cell_type": "code",
   "execution_count": null,
   "metadata": {
    "collapsed": true
   },
   "outputs": [],
   "source": [
    "## ANSWER 1 ##\n",
    "\n",
    "a = \n",
    "b = \n",
    "h = \n",
    "\n",
    "<insert lines\n",
    " of code here>\n",
    "    \n",
    "print(area)"
   ]
  },
  {
   "cell_type": "code",
   "execution_count": null,
   "metadata": {
    "collapsed": true
   },
   "outputs": [],
   "source": [
    "## QUESTION 2 ##\n",
    "# For a given numeric input, N, produce some re-usable code that will print\n",
    "#  one of the following messages, depending on the value of N:\n",
    "#  - \"N is zero\"\n",
    "#  - \"N is a positive integer\"\n",
    "#  - \"N is a negaitve integer\"\n",
    "#  - \"N is positive but not an integer\"\n",
    "#  - \"N is negative but not an integer\""
   ]
  },
  {
   "cell_type": "code",
   "execution_count": null,
   "metadata": {
    "collapsed": true
   },
   "outputs": [],
   "source": [
    "## ANSWER 2 ##\n",
    "\n",
    "N = \n",
    "\n",
    "<insert lines\n",
    " of code here>\n",
    "<you will need to use an\n",
    " if-else structure>"
   ]
  },
  {
   "cell_type": "code",
   "execution_count": null,
   "metadata": {
    "collapsed": true
   },
   "outputs": [],
   "source": [
    "## QUESTION 3 ##\n",
    "# Produce some re-usable code that uses a for loop\n",
    "#  concatenate* all the elements of a list into one string.\n",
    "# We have provided an example list for you to start with.\n",
    "\n",
    "# * Concatenate means to put two strings next to each other:\n",
    "#   e.g. concatenating 'Hi' with 'Jack' would give 'HiJack'."
   ]
  },
  {
   "cell_type": "code",
   "execution_count": null,
   "metadata": {
    "collapsed": true
   },
   "outputs": [],
   "source": [
    "## ANSWER 3 ##\n",
    "\n",
    "list_input = ['Hi','Jack','my','name','is','Jill']\n",
    "\n",
    "<insert lines\n",
    " of code here>\n",
    "<you will need to use a\n",
    " for loop structure>"
   ]
  },
  {
   "cell_type": "markdown",
   "metadata": {
    "collapsed": true
   },
   "source": [
    "### Intermediate level"
   ]
  },
  {
   "cell_type": "markdown",
   "metadata": {},
   "source": [
    "These questions use a combination of if-else statement, for loops, and other functions.\n",
    "They also require a greater element of problem solving than the beginner questions,\n",
    "in addition to the need to convert instructions into code."
   ]
  },
  {
   "cell_type": "code",
   "execution_count": null,
   "metadata": {
    "collapsed": true
   },
   "outputs": [],
   "source": [
    "## QUESTION 4 ##\n",
    "# Produce some re-usable code that counts the number of times\n",
    "#  each vowel occurs in a string."
   ]
  },
  {
   "cell_type": "code",
   "execution_count": null,
   "metadata": {
    "collapsed": true
   },
   "outputs": [],
   "source": [
    "## ANSWER 4 ##\n",
    "\n",
    "string_input = \"\"\"\n",
    "midnight at my corridor\n",
    "i thought i saw things unholy\n",
    "a shadow gliding at a lift landing\n",
    "as a dog howls, primordial, distant\n",
    "barking at\n",
    "a sky of rusty slag bulging with a storm\n",
    "a wind mobilizing X-wings swooping in\n",
    "on dim corridors in attack flights\n",
    "as i turn a lock on my door\n",
    "and walk into a warm room to my child hugging a pikachu\n",
    "smiling waiting for daddy.\n",
    "\"\"\"\n",
    "\n",
    "<insert lines\n",
    " of code here>\n",
    "    \n",
    "print('Number of As = '+str(a_count))\n",
    "print('Number of Es = '+str(e_count))\n",
    "print('Number of Is = '+str(i_count))\n",
    "print('Number of Os = '+str(o_count))\n",
    "print('Number of Us = '+str(u_count))"
   ]
  },
  {
   "cell_type": "code",
   "execution_count": null,
   "metadata": {
    "collapsed": true
   },
   "outputs": [],
   "source": [
    "## QUESTION 5 ##\n",
    "# Each new term in the Fibonacci sequence is generated by adding the previous two terms.\n",
    "# By starting with 1 and 2, the first 10 terms will be:\n",
    "#   1, 2, 3, 5, 8, 13, 21, 34, 55, 89, ...\n",
    "\n",
    "# Create some code to calculate the 1000th number in the Fibonacci sequence."
   ]
  },
  {
   "cell_type": "code",
   "execution_count": null,
   "metadata": {
    "collapsed": true
   },
   "outputs": [],
   "source": [
    "## ANSWER 5 ##\n",
    "\n",
    "<insert lines\n",
    " of code here>\n",
    "<you will need to use a\n",
    " for loop structure>"
   ]
  },
  {
   "cell_type": "code",
   "execution_count": null,
   "metadata": {
    "collapsed": true
   },
   "outputs": [],
   "source": [
    "## QUESTION 6 ##\n",
    "# Produce some re-usable code that checks whether or not a given integer is a palindrome*.\n",
    "\n",
    "# * A palindrome is a number which looks the same if all its digits are reversed."
   ]
  },
  {
   "cell_type": "code",
   "execution_count": null,
   "metadata": {
    "collapsed": true
   },
   "outputs": [],
   "source": [
    "## ANSWER 6 ##\n",
    "\n",
    "integer_input = 902209\n",
    "\n",
    "<insert lines\n",
    " of code here>\n",
    "<you will need to use an\n",
    " if-else structure>\n",
    "<you will need to use a\n",
    " for loop structure>"
   ]
  },
  {
   "cell_type": "markdown",
   "metadata": {},
   "source": [
    "### Advanced level"
   ]
  },
  {
   "cell_type": "markdown",
   "metadata": {},
   "source": [
    "These questions require some mathematical problem solving,\n",
    "and may involve functions or techniques that were not covered in workshop 3."
   ]
  },
  {
   "cell_type": "code",
   "execution_count": null,
   "metadata": {
    "collapsed": true
   },
   "outputs": [],
   "source": [
    "## QUESTION 7 ##\n",
    "# Find all the right-angled triangles with a perimeter of 120.\n",
    "# You will need to make use of Pythagoras' theorem."
   ]
  },
  {
   "cell_type": "code",
   "execution_count": null,
   "metadata": {
    "collapsed": true
   },
   "outputs": [],
   "source": [
    "## ANSWER 7 ##\n",
    "\n",
    "<insert lines\n",
    " of code here>"
   ]
  },
  {
   "cell_type": "code",
   "execution_count": null,
   "metadata": {
    "collapsed": true
   },
   "outputs": [],
   "source": [
    "## QUESTION 8 ##\n",
    "# Find the longest word in a given string input."
   ]
  },
  {
   "cell_type": "code",
   "execution_count": null,
   "metadata": {
    "collapsed": true
   },
   "outputs": [],
   "source": [
    "## ANSWER 8 ##\n",
    "\n",
    "string_input = \"\"\"\n",
    "midnight at my corridor\n",
    "i thought i saw things unholy\n",
    "a shadow gliding at a lift landing\n",
    "as a dog howls, primordial, distant\n",
    "barking at\n",
    "a sky of rusty slag bulging with a storm\n",
    "a wind mobilizing X-wings swooping in\n",
    "on dim corridors in attack flights\n",
    "as i turn a lock on my door\n",
    "and walk into a warm room to my child hugging a pikachu\n",
    "smiling waiting for daddy.\n",
    "\"\"\"\n",
    "\n",
    "<insert lines\n",
    " of code here>"
   ]
  },
  {
   "cell_type": "code",
   "execution_count": null,
   "metadata": {
    "collapsed": true
   },
   "outputs": [],
   "source": [
    "## QUESTION 9 ##\n",
    "# How many different ways can £2 be made using any number of coins?\n",
    "# Coins = 1p, 2p, 5p, 10p, 20p, 50p, £1, £2\n",
    "\n",
    "# Extra credit:\n",
    "# If we were to limit ourselves to having just 4 types of coin in circulation,\n",
    "# what values of coins would be ideal to yield the smallest number of coins\n",
    "# in any transaction less than £1?\n",
    "# 1p, 2p, 15p, 50p, for example?"
   ]
  },
  {
   "cell_type": "code",
   "execution_count": null,
   "metadata": {
    "collapsed": true
   },
   "outputs": [],
   "source": [
    "## ANSWER 9 ##\n",
    "\n",
    "<insert lines\n",
    " of code here>"
   ]
  }
 ],
 "metadata": {
  "kernelspec": {
   "display_name": "Python 3",
   "language": "python",
   "name": "python3"
  },
  "language_info": {
   "codemirror_mode": {
    "name": "ipython",
    "version": 3
   },
   "file_extension": ".py",
   "mimetype": "text/x-python",
   "name": "python",
   "nbconvert_exporter": "python",
   "pygments_lexer": "ipython3",
   "version": "3.6.6"
  }
 },
 "nbformat": 4,
 "nbformat_minor": 2
}
